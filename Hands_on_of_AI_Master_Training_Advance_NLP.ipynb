{
  "nbformat": 4,
  "nbformat_minor": 0,
  "metadata": {
    "colab": {
      "provenance": [],
      "include_colab_link": true
    },
    "kernelspec": {
      "name": "python3",
      "display_name": "Python 3"
    },
    "language_info": {
      "name": "python"
    }
  },
  "cells": [
    {
      "cell_type": "markdown",
      "metadata": {
        "id": "view-in-github",
        "colab_type": "text"
      },
      "source": [
        "<a href=\"https://colab.research.google.com/github/Achapiyu/Sentiment-Analysis-NLP-with-Python/blob/main/Hands_on_of_AI_Master_Training_Advance_NLP.ipynb\" target=\"_parent\"><img src=\"https://colab.research.google.com/assets/colab-badge.svg\" alt=\"Open In Colab\"/></a>"
      ]
    },
    {
      "cell_type": "markdown",
      "source": [
        "# **Advance Training AI Center for Learning and Optimization**\n",
        "\n",
        "### **HANDS ON CODE**\n",
        "<br/>\n",
        "\n",
        "Dibuat dan dipaparkan oleh:\n",
        "\n",
        "<img src=\"https://ailo.telkomuniversity.ac.id/wp-content/uploads/2023/07/cropped-logo-stempel-ai-center-1-219x60.png\" width=\"200px\"/>\n",
        "\n",
        "© 2023 AI Center for Learning and Optimization\n",
        "\n",
        "[Instagram](https://www.instagram.com/aicenter.telu/) | [Website](https://ailo.telkomuniversity.ac.id/)\n",
        "<br/>\n",
        "<br/>"
      ],
      "metadata": {
        "id": "nQmDyv27zUEi"
      }
    },
    {
      "cell_type": "markdown",
      "source": [
        "### SETUP\n",
        "Dataset yang digunakan ialah hasil crawling dari twitter dengan keyword \"Ganjar\" dan dilakukan pelabelan secara manual"
      ],
      "metadata": {
        "id": "84SXokngwzn2"
      }
    },
    {
      "cell_type": "code",
      "source": [
        "#Install transformers dan sastrawi\n",
        "!pip install transformers\n",
        "!pip install sastrawi\n",
        "!pip install wordcloud"
      ],
      "metadata": {
        "id": "bj2Ci5o8ifu2",
        "colab": {
          "base_uri": "https://localhost:8080/"
        },
        "outputId": "73a69b9f-1ed5-484e-9889-9742a569c0f7"
      },
      "execution_count": null,
      "outputs": [
        {
          "output_type": "stream",
          "name": "stdout",
          "text": [
            "Requirement already satisfied: transformers in /usr/local/lib/python3.10/dist-packages (4.32.1)\n",
            "Requirement already satisfied: filelock in /usr/local/lib/python3.10/dist-packages (from transformers) (3.12.2)\n",
            "Requirement already satisfied: huggingface-hub<1.0,>=0.15.1 in /usr/local/lib/python3.10/dist-packages (from transformers) (0.16.4)\n",
            "Requirement already satisfied: numpy>=1.17 in /usr/local/lib/python3.10/dist-packages (from transformers) (1.23.5)\n",
            "Requirement already satisfied: packaging>=20.0 in /usr/local/lib/python3.10/dist-packages (from transformers) (23.1)\n",
            "Requirement already satisfied: pyyaml>=5.1 in /usr/local/lib/python3.10/dist-packages (from transformers) (6.0.1)\n",
            "Requirement already satisfied: regex!=2019.12.17 in /usr/local/lib/python3.10/dist-packages (from transformers) (2023.6.3)\n",
            "Requirement already satisfied: requests in /usr/local/lib/python3.10/dist-packages (from transformers) (2.31.0)\n",
            "Requirement already satisfied: tokenizers!=0.11.3,<0.14,>=0.11.1 in /usr/local/lib/python3.10/dist-packages (from transformers) (0.13.3)\n",
            "Requirement already satisfied: safetensors>=0.3.1 in /usr/local/lib/python3.10/dist-packages (from transformers) (0.3.3)\n",
            "Requirement already satisfied: tqdm>=4.27 in /usr/local/lib/python3.10/dist-packages (from transformers) (4.66.1)\n",
            "Requirement already satisfied: fsspec in /usr/local/lib/python3.10/dist-packages (from huggingface-hub<1.0,>=0.15.1->transformers) (2023.6.0)\n",
            "Requirement already satisfied: typing-extensions>=3.7.4.3 in /usr/local/lib/python3.10/dist-packages (from huggingface-hub<1.0,>=0.15.1->transformers) (4.7.1)\n",
            "Requirement already satisfied: charset-normalizer<4,>=2 in /usr/local/lib/python3.10/dist-packages (from requests->transformers) (3.2.0)\n",
            "Requirement already satisfied: idna<4,>=2.5 in /usr/local/lib/python3.10/dist-packages (from requests->transformers) (3.4)\n",
            "Requirement already satisfied: urllib3<3,>=1.21.1 in /usr/local/lib/python3.10/dist-packages (from requests->transformers) (2.0.4)\n",
            "Requirement already satisfied: certifi>=2017.4.17 in /usr/local/lib/python3.10/dist-packages (from requests->transformers) (2023.7.22)\n",
            "Requirement already satisfied: sastrawi in /usr/local/lib/python3.10/dist-packages (1.0.1)\n",
            "Requirement already satisfied: wordcloud in /usr/local/lib/python3.10/dist-packages (1.9.2)\n",
            "Requirement already satisfied: numpy>=1.6.1 in /usr/local/lib/python3.10/dist-packages (from wordcloud) (1.23.5)\n",
            "Requirement already satisfied: pillow in /usr/local/lib/python3.10/dist-packages (from wordcloud) (9.4.0)\n",
            "Requirement already satisfied: matplotlib in /usr/local/lib/python3.10/dist-packages (from wordcloud) (3.7.1)\n",
            "Requirement already satisfied: contourpy>=1.0.1 in /usr/local/lib/python3.10/dist-packages (from matplotlib->wordcloud) (1.1.0)\n",
            "Requirement already satisfied: cycler>=0.10 in /usr/local/lib/python3.10/dist-packages (from matplotlib->wordcloud) (0.11.0)\n",
            "Requirement already satisfied: fonttools>=4.22.0 in /usr/local/lib/python3.10/dist-packages (from matplotlib->wordcloud) (4.42.1)\n",
            "Requirement already satisfied: kiwisolver>=1.0.1 in /usr/local/lib/python3.10/dist-packages (from matplotlib->wordcloud) (1.4.4)\n",
            "Requirement already satisfied: packaging>=20.0 in /usr/local/lib/python3.10/dist-packages (from matplotlib->wordcloud) (23.1)\n",
            "Requirement already satisfied: pyparsing>=2.3.1 in /usr/local/lib/python3.10/dist-packages (from matplotlib->wordcloud) (3.1.1)\n",
            "Requirement already satisfied: python-dateutil>=2.7 in /usr/local/lib/python3.10/dist-packages (from matplotlib->wordcloud) (2.8.2)\n",
            "Requirement already satisfied: six>=1.5 in /usr/local/lib/python3.10/dist-packages (from python-dateutil>=2.7->matplotlib->wordcloud) (1.16.0)\n"
          ]
        }
      ]
    },
    {
      "cell_type": "code",
      "execution_count": null,
      "metadata": {
        "id": "E3ETLDDzTEli"
      },
      "outputs": [],
      "source": [
        "#import library yang dibutuhkan\n",
        "import re\n",
        "import pandas as pd\n",
        "import numpy as np\n",
        "import matplotlib as plt"
      ]
    },
    {
      "cell_type": "code",
      "source": [
        "#import data\n",
        "df = pd.read_csv ('DataCapresGanjar.csv' , sep=';')"
      ],
      "metadata": {
        "id": "gPnj70g_JmiQ"
      },
      "execution_count": null,
      "outputs": []
    },
    {
      "cell_type": "markdown",
      "source": [
        "### EDA"
      ],
      "metadata": {
        "id": "6tsYbQTUw8TX"
      }
    },
    {
      "cell_type": "code",
      "source": [
        "#Mendrop data kosong dan melihat dataframe\n",
        "df = df.dropna()\n",
        "df"
      ],
      "metadata": {
        "id": "MfFpgkNGLT39",
        "colab": {
          "base_uri": "https://localhost:8080/",
          "height": 424
        },
        "outputId": "65581f48-2387-422b-fb01-bc5a79667db6"
      },
      "execution_count": null,
      "outputs": [
        {
          "output_type": "execute_result",
          "data": {
            "text/plain": [
              "                                              full_text  class\n",
              "0     Soal pertemuan Ganjar dan Airlangga, tertutup....     20\n",
              "1     Meski sepi dari pemberitaan, sebetulnya Ganjar...      0\n",
              "2     @Gus_Raharjo @ganjarpranowo Kok hebat kali dia...     20\n",
              "3        @FadlyNajib @geloraco Bisa jadi, ganjar wapres      0\n",
              "4                        1 Muharam bersama GANJAR https     10\n",
              "...                                                 ...    ...\n",
              "1019  @ganjarpranowo Dijateng banyak persoalan kok c...      2\n",
              "1020  @tvOneNews Yg penting jangan dukung ganjar dah...      2\n",
              "1021  @aan_muba @ganjarpranowo Kasihan murid yg dita...      0\n",
              "1022  @ganjarpranowo @ESDMJateng Lalu setelah tau be...      2\n",
              "1023                                    Berita Prabowo       0\n",
              "\n",
              "[1024 rows x 2 columns]"
            ],
            "text/html": [
              "\n",
              "  <div id=\"df-540bd154-d48d-416f-b7c7-d9ccc3b2ee50\" class=\"colab-df-container\">\n",
              "    <div>\n",
              "<style scoped>\n",
              "    .dataframe tbody tr th:only-of-type {\n",
              "        vertical-align: middle;\n",
              "    }\n",
              "\n",
              "    .dataframe tbody tr th {\n",
              "        vertical-align: top;\n",
              "    }\n",
              "\n",
              "    .dataframe thead th {\n",
              "        text-align: right;\n",
              "    }\n",
              "</style>\n",
              "<table border=\"1\" class=\"dataframe\">\n",
              "  <thead>\n",
              "    <tr style=\"text-align: right;\">\n",
              "      <th></th>\n",
              "      <th>full_text</th>\n",
              "      <th>class</th>\n",
              "    </tr>\n",
              "  </thead>\n",
              "  <tbody>\n",
              "    <tr>\n",
              "      <th>0</th>\n",
              "      <td>Soal pertemuan Ganjar dan Airlangga, tertutup....</td>\n",
              "      <td>20</td>\n",
              "    </tr>\n",
              "    <tr>\n",
              "      <th>1</th>\n",
              "      <td>Meski sepi dari pemberitaan, sebetulnya Ganjar...</td>\n",
              "      <td>0</td>\n",
              "    </tr>\n",
              "    <tr>\n",
              "      <th>2</th>\n",
              "      <td>@Gus_Raharjo @ganjarpranowo Kok hebat kali dia...</td>\n",
              "      <td>20</td>\n",
              "    </tr>\n",
              "    <tr>\n",
              "      <th>3</th>\n",
              "      <td>@FadlyNajib @geloraco Bisa jadi, ganjar wapres</td>\n",
              "      <td>0</td>\n",
              "    </tr>\n",
              "    <tr>\n",
              "      <th>4</th>\n",
              "      <td>1 Muharam bersama GANJAR https</td>\n",
              "      <td>10</td>\n",
              "    </tr>\n",
              "    <tr>\n",
              "      <th>...</th>\n",
              "      <td>...</td>\n",
              "      <td>...</td>\n",
              "    </tr>\n",
              "    <tr>\n",
              "      <th>1019</th>\n",
              "      <td>@ganjarpranowo Dijateng banyak persoalan kok c...</td>\n",
              "      <td>2</td>\n",
              "    </tr>\n",
              "    <tr>\n",
              "      <th>1020</th>\n",
              "      <td>@tvOneNews Yg penting jangan dukung ganjar dah...</td>\n",
              "      <td>2</td>\n",
              "    </tr>\n",
              "    <tr>\n",
              "      <th>1021</th>\n",
              "      <td>@aan_muba @ganjarpranowo Kasihan murid yg dita...</td>\n",
              "      <td>0</td>\n",
              "    </tr>\n",
              "    <tr>\n",
              "      <th>1022</th>\n",
              "      <td>@ganjarpranowo @ESDMJateng Lalu setelah tau be...</td>\n",
              "      <td>2</td>\n",
              "    </tr>\n",
              "    <tr>\n",
              "      <th>1023</th>\n",
              "      <td>Berita Prabowo</td>\n",
              "      <td>0</td>\n",
              "    </tr>\n",
              "  </tbody>\n",
              "</table>\n",
              "<p>1024 rows × 2 columns</p>\n",
              "</div>\n",
              "    <div class=\"colab-df-buttons\">\n",
              "\n",
              "  <div class=\"colab-df-container\">\n",
              "    <button class=\"colab-df-convert\" onclick=\"convertToInteractive('df-540bd154-d48d-416f-b7c7-d9ccc3b2ee50')\"\n",
              "            title=\"Convert this dataframe to an interactive table.\"\n",
              "            style=\"display:none;\">\n",
              "\n",
              "  <svg xmlns=\"http://www.w3.org/2000/svg\" height=\"24px\" viewBox=\"0 -960 960 960\">\n",
              "    <path d=\"M120-120v-720h720v720H120Zm60-500h600v-160H180v160Zm220 220h160v-160H400v160Zm0 220h160v-160H400v160ZM180-400h160v-160H180v160Zm440 0h160v-160H620v160ZM180-180h160v-160H180v160Zm440 0h160v-160H620v160Z\"/>\n",
              "  </svg>\n",
              "    </button>\n",
              "\n",
              "  <style>\n",
              "    .colab-df-container {\n",
              "      display:flex;\n",
              "      gap: 12px;\n",
              "    }\n",
              "\n",
              "    .colab-df-convert {\n",
              "      background-color: #E8F0FE;\n",
              "      border: none;\n",
              "      border-radius: 50%;\n",
              "      cursor: pointer;\n",
              "      display: none;\n",
              "      fill: #1967D2;\n",
              "      height: 32px;\n",
              "      padding: 0 0 0 0;\n",
              "      width: 32px;\n",
              "    }\n",
              "\n",
              "    .colab-df-convert:hover {\n",
              "      background-color: #E2EBFA;\n",
              "      box-shadow: 0px 1px 2px rgba(60, 64, 67, 0.3), 0px 1px 3px 1px rgba(60, 64, 67, 0.15);\n",
              "      fill: #174EA6;\n",
              "    }\n",
              "\n",
              "    .colab-df-buttons div {\n",
              "      margin-bottom: 4px;\n",
              "    }\n",
              "\n",
              "    [theme=dark] .colab-df-convert {\n",
              "      background-color: #3B4455;\n",
              "      fill: #D2E3FC;\n",
              "    }\n",
              "\n",
              "    [theme=dark] .colab-df-convert:hover {\n",
              "      background-color: #434B5C;\n",
              "      box-shadow: 0px 1px 3px 1px rgba(0, 0, 0, 0.15);\n",
              "      filter: drop-shadow(0px 1px 2px rgba(0, 0, 0, 0.3));\n",
              "      fill: #FFFFFF;\n",
              "    }\n",
              "  </style>\n",
              "\n",
              "    <script>\n",
              "      const buttonEl =\n",
              "        document.querySelector('#df-540bd154-d48d-416f-b7c7-d9ccc3b2ee50 button.colab-df-convert');\n",
              "      buttonEl.style.display =\n",
              "        google.colab.kernel.accessAllowed ? 'block' : 'none';\n",
              "\n",
              "      async function convertToInteractive(key) {\n",
              "        const element = document.querySelector('#df-540bd154-d48d-416f-b7c7-d9ccc3b2ee50');\n",
              "        const dataTable =\n",
              "          await google.colab.kernel.invokeFunction('convertToInteractive',\n",
              "                                                    [key], {});\n",
              "        if (!dataTable) return;\n",
              "\n",
              "        const docLinkHtml = 'Like what you see? Visit the ' +\n",
              "          '<a target=\"_blank\" href=https://colab.research.google.com/notebooks/data_table.ipynb>data table notebook</a>'\n",
              "          + ' to learn more about interactive tables.';\n",
              "        element.innerHTML = '';\n",
              "        dataTable['output_type'] = 'display_data';\n",
              "        await google.colab.output.renderOutput(dataTable, element);\n",
              "        const docLink = document.createElement('div');\n",
              "        docLink.innerHTML = docLinkHtml;\n",
              "        element.appendChild(docLink);\n",
              "      }\n",
              "    </script>\n",
              "  </div>\n",
              "\n",
              "\n",
              "<div id=\"df-978a6c1a-55d9-4fef-8149-766b4a511d0a\">\n",
              "  <button class=\"colab-df-quickchart\" onclick=\"quickchart('df-978a6c1a-55d9-4fef-8149-766b4a511d0a')\"\n",
              "            title=\"Suggest charts.\"\n",
              "            style=\"display:none;\">\n",
              "\n",
              "<svg xmlns=\"http://www.w3.org/2000/svg\" height=\"24px\"viewBox=\"0 0 24 24\"\n",
              "     width=\"24px\">\n",
              "    <g>\n",
              "        <path d=\"M19 3H5c-1.1 0-2 .9-2 2v14c0 1.1.9 2 2 2h14c1.1 0 2-.9 2-2V5c0-1.1-.9-2-2-2zM9 17H7v-7h2v7zm4 0h-2V7h2v10zm4 0h-2v-4h2v4z\"/>\n",
              "    </g>\n",
              "</svg>\n",
              "  </button>\n",
              "\n",
              "<style>\n",
              "  .colab-df-quickchart {\n",
              "      --bg-color: #E8F0FE;\n",
              "      --fill-color: #1967D2;\n",
              "      --hover-bg-color: #E2EBFA;\n",
              "      --hover-fill-color: #174EA6;\n",
              "      --disabled-fill-color: #AAA;\n",
              "      --disabled-bg-color: #DDD;\n",
              "  }\n",
              "\n",
              "  [theme=dark] .colab-df-quickchart {\n",
              "      --bg-color: #3B4455;\n",
              "      --fill-color: #D2E3FC;\n",
              "      --hover-bg-color: #434B5C;\n",
              "      --hover-fill-color: #FFFFFF;\n",
              "      --disabled-bg-color: #3B4455;\n",
              "      --disabled-fill-color: #666;\n",
              "  }\n",
              "\n",
              "  .colab-df-quickchart {\n",
              "    background-color: var(--bg-color);\n",
              "    border: none;\n",
              "    border-radius: 50%;\n",
              "    cursor: pointer;\n",
              "    display: none;\n",
              "    fill: var(--fill-color);\n",
              "    height: 32px;\n",
              "    padding: 0;\n",
              "    width: 32px;\n",
              "  }\n",
              "\n",
              "  .colab-df-quickchart:hover {\n",
              "    background-color: var(--hover-bg-color);\n",
              "    box-shadow: 0 1px 2px rgba(60, 64, 67, 0.3), 0 1px 3px 1px rgba(60, 64, 67, 0.15);\n",
              "    fill: var(--button-hover-fill-color);\n",
              "  }\n",
              "\n",
              "  .colab-df-quickchart-complete:disabled,\n",
              "  .colab-df-quickchart-complete:disabled:hover {\n",
              "    background-color: var(--disabled-bg-color);\n",
              "    fill: var(--disabled-fill-color);\n",
              "    box-shadow: none;\n",
              "  }\n",
              "\n",
              "  .colab-df-spinner {\n",
              "    border: 2px solid var(--fill-color);\n",
              "    border-color: transparent;\n",
              "    border-bottom-color: var(--fill-color);\n",
              "    animation:\n",
              "      spin 1s steps(1) infinite;\n",
              "  }\n",
              "\n",
              "  @keyframes spin {\n",
              "    0% {\n",
              "      border-color: transparent;\n",
              "      border-bottom-color: var(--fill-color);\n",
              "      border-left-color: var(--fill-color);\n",
              "    }\n",
              "    20% {\n",
              "      border-color: transparent;\n",
              "      border-left-color: var(--fill-color);\n",
              "      border-top-color: var(--fill-color);\n",
              "    }\n",
              "    30% {\n",
              "      border-color: transparent;\n",
              "      border-left-color: var(--fill-color);\n",
              "      border-top-color: var(--fill-color);\n",
              "      border-right-color: var(--fill-color);\n",
              "    }\n",
              "    40% {\n",
              "      border-color: transparent;\n",
              "      border-right-color: var(--fill-color);\n",
              "      border-top-color: var(--fill-color);\n",
              "    }\n",
              "    60% {\n",
              "      border-color: transparent;\n",
              "      border-right-color: var(--fill-color);\n",
              "    }\n",
              "    80% {\n",
              "      border-color: transparent;\n",
              "      border-right-color: var(--fill-color);\n",
              "      border-bottom-color: var(--fill-color);\n",
              "    }\n",
              "    90% {\n",
              "      border-color: transparent;\n",
              "      border-bottom-color: var(--fill-color);\n",
              "    }\n",
              "  }\n",
              "</style>\n",
              "\n",
              "  <script>\n",
              "    async function quickchart(key) {\n",
              "      const quickchartButtonEl =\n",
              "        document.querySelector('#' + key + ' button');\n",
              "      quickchartButtonEl.disabled = true;  // To prevent multiple clicks.\n",
              "      quickchartButtonEl.classList.add('colab-df-spinner');\n",
              "      try {\n",
              "        const charts = await google.colab.kernel.invokeFunction(\n",
              "            'suggestCharts', [key], {});\n",
              "      } catch (error) {\n",
              "        console.error('Error during call to suggestCharts:', error);\n",
              "      }\n",
              "      quickchartButtonEl.classList.remove('colab-df-spinner');\n",
              "      quickchartButtonEl.classList.add('colab-df-quickchart-complete');\n",
              "    }\n",
              "    (() => {\n",
              "      let quickchartButtonEl =\n",
              "        document.querySelector('#df-978a6c1a-55d9-4fef-8149-766b4a511d0a button');\n",
              "      quickchartButtonEl.style.display =\n",
              "        google.colab.kernel.accessAllowed ? 'block' : 'none';\n",
              "    })();\n",
              "  </script>\n",
              "</div>\n",
              "    </div>\n",
              "  </div>\n"
            ]
          },
          "metadata": {},
          "execution_count": 5
        }
      ]
    },
    {
      "cell_type": "code",
      "source": [
        "#Membenarkan penulisan label\n",
        "df['class'] = df['class'].replace(10,1)\n",
        "df['class'] = df['class'].replace(20,2)\n",
        "#Merubah label dari float menjadi int\n",
        "df['class'] = df['class'].astype(int)\n",
        "df['class'].unique()"
      ],
      "metadata": {
        "id": "tkpn41Y2jWPg",
        "colab": {
          "base_uri": "https://localhost:8080/"
        },
        "outputId": "d5ad0927-cc1e-4795-acb4-64301b8c4917"
      },
      "execution_count": null,
      "outputs": [
        {
          "output_type": "execute_result",
          "data": {
            "text/plain": [
              "array([2, 0, 1])"
            ]
          },
          "metadata": {},
          "execution_count": 17
        }
      ]
    },
    {
      "cell_type": "code",
      "source": [
        "import seaborn as sns\n",
        "df[\"class\"].isnull().sum()\n",
        "sns.countplot(x= 'class', data=df)"
      ],
      "metadata": {
        "id": "xDF1m6lVkvf4",
        "colab": {
          "base_uri": "https://localhost:8080/",
          "height": 466
        },
        "outputId": "77404535-d5ea-4d95-cf6b-a2e09b8afb10"
      },
      "execution_count": null,
      "outputs": [
        {
          "output_type": "execute_result",
          "data": {
            "text/plain": [
              "<Axes: xlabel='class', ylabel='count'>"
            ]
          },
          "metadata": {},
          "execution_count": 18
        },
        {
          "output_type": "display_data",
          "data": {
            "text/plain": [
              "<Figure size 640x480 with 1 Axes>"
            ],
            "image/png": "[encoded data removed]"
          },
          "metadata": {}
        }
      ]
    },
    {
      "cell_type": "code",
      "source": [
        "#Menyimpan label pada dataframe\n",
        "df_class = df['class']\n",
        "df_fulltext = df['full_text']\n",
        "#Menghapus data yang tidak dibutuhkan\n",
        "df = df.drop(['full_text'], axis=1) #--> isi ...\n",
        "df"
      ],
      "metadata": {
        "id": "v-8DwvTEhk_9",
        "colab": {
          "base_uri": "https://localhost:8080/",
          "height": 424
        },
        "outputId": "324dcae5-513b-4350-d807-1db4bd52b26a"
      },
      "execution_count": null,
      "outputs": [
        {
          "output_type": "execute_result",
          "data": {
            "text/plain": [
              "      class\n",
              "0         2\n",
              "1         0\n",
              "2         2\n",
              "3         0\n",
              "4         1\n",
              "...     ...\n",
              "1019      2\n",
              "1020      2\n",
              "1021      0\n",
              "1022      2\n",
              "1023      0\n",
              "\n",
              "[1024 rows x 1 columns]"
            ],
            "text/html": [
              "\n",
              "  <div id=\"df-a265fd2d-cf9a-4c7a-8b5b-0116e495fa85\" class=\"colab-df-container\">\n",
              "    <div>\n",
              "<style scoped>\n",
              "    .dataframe tbody tr th:only-of-type {\n",
              "        vertical-align: middle;\n",
              "    }\n",
              "\n",
              "    .dataframe tbody tr th {\n",
              "        vertical-align: top;\n",
              "    }\n",
              "\n",
              "    .dataframe thead th {\n",
              "        text-align: right;\n",
              "    }\n",
              "</style>\n",
              "<table border=\"1\" class=\"dataframe\">\n",
              "  <thead>\n",
              "    <tr style=\"text-align: right;\">\n",
              "      <th></th>\n",
              "      <th>class</th>\n",
              "    </tr>\n",
              "  </thead>\n",
              "  <tbody>\n",
              "    <tr>\n",
              "      <th>0</th>\n",
              "      <td>2</td>\n",
              "    </tr>\n",
              "    <tr>\n",
              "      <th>1</th>\n",
              "      <td>0</td>\n",
              "    </tr>\n",
              "    <tr>\n",
              "      <th>2</th>\n",
              "      <td>2</td>\n",
              "    </tr>\n",
              "    <tr>\n",
              "      <th>3</th>\n",
              "      <td>0</td>\n",
              "    </tr>\n",
              "    <tr>\n",
              "      <th>4</th>\n",
              "      <td>1</td>\n",
              "    </tr>\n",
              "    <tr>\n",
              "      <th>...</th>\n",
              "      <td>...</td>\n",
              "    </tr>\n",
              "    <tr>\n",
              "      <th>1019</th>\n",
              "      <td>2</td>\n",
              "    </tr>\n",
              "    <tr>\n",
              "      <th>1020</th>\n",
              "      <td>2</td>\n",
              "    </tr>\n",
              "    <tr>\n",
              "      <th>1021</th>\n",
              "      <td>0</td>\n",
              "    </tr>\n",
              "    <tr>\n",
              "      <th>1022</th>\n",
              "      <td>2</td>\n",
              "    </tr>\n",
              "    <tr>\n",
              "      <th>1023</th>\n",
              "      <td>0</td>\n",
              "    </tr>\n",
              "  </tbody>\n",
              "</table>\n",
              "<p>1024 rows × 1 columns</p>\n",
              "</div>\n",
              "    <div class=\"colab-df-buttons\">\n",
              "\n",
              "  <div class=\"colab-df-container\">\n",
              "    <button class=\"colab-df-convert\" onclick=\"convertToInteractive('df-a265fd2d-cf9a-4c7a-8b5b-0116e495fa85')\"\n",
              "            title=\"Convert this dataframe to an interactive table.\"\n",
              "            style=\"display:none;\">\n",
              "\n",
              "  <svg xmlns=\"http://www.w3.org/2000/svg\" height=\"24px\" viewBox=\"0 -960 960 960\">\n",
              "    <path d=\"M120-120v-720h720v720H120Zm60-500h600v-160H180v160Zm220 220h160v-160H400v160Zm0 220h160v-160H400v160ZM180-400h160v-160H180v160Zm440 0h160v-160H620v160ZM180-180h160v-160H180v160Zm440 0h160v-160H620v160Z\"/>\n",
              "  </svg>\n",
              "    </button>\n",
              "\n",
              "  <style>\n",
              "    .colab-df-container {\n",
              "      display:flex;\n",
              "      gap: 12px;\n",
              "    }\n",
              "\n",
              "    .colab-df-convert {\n",
              "      background-color: #E8F0FE;\n",
              "      border: none;\n",
              "      border-radius: 50%;\n",
              "      cursor: pointer;\n",
              "      display: none;\n",
              "      fill: #1967D2;\n",
              "      height: 32px;\n",
              "      padding: 0 0 0 0;\n",
              "      width: 32px;\n",
              "    }\n",
              "\n",
              "    .colab-df-convert:hover {\n",
              "      background-color: #E2EBFA;\n",
              "      box-shadow: 0px 1px 2px rgba(60, 64, 67, 0.3), 0px 1px 3px 1px rgba(60, 64, 67, 0.15);\n",
              "      fill: #174EA6;\n",
              "    }\n",
              "\n",
              "    .colab-df-buttons div {\n",
              "      margin-bottom: 4px;\n",
              "    }\n",
              "\n",
              "    [theme=dark] .colab-df-convert {\n",
              "      background-color: #3B4455;\n",
              "      fill: #D2E3FC;\n",
              "    }\n",
              "\n",
              "    [theme=dark] .colab-df-convert:hover {\n",
              "      background-color: #434B5C;\n",
              "      box-shadow: 0px 1px 3px 1px rgba(0, 0, 0, 0.15);\n",
              "      filter: drop-shadow(0px 1px 2px rgba(0, 0, 0, 0.3));\n",
              "      fill: #FFFFFF;\n",
              "    }\n",
              "  </style>\n",
              "\n",
              "    <script>\n",
              "      const buttonEl =\n",
              "        document.querySelector('#df-a265fd2d-cf9a-4c7a-8b5b-0116e495fa85 button.colab-df-convert');\n",
              "      buttonEl.style.display =\n",
              "        google.colab.kernel.accessAllowed ? 'block' : 'none';\n",
              "\n",
              "      async function convertToInteractive(key) {\n",
              "        const element = document.querySelector('#df-a265fd2d-cf9a-4c7a-8b5b-0116e495fa85');\n",
              "        const dataTable =\n",
              "          await google.colab.kernel.invokeFunction('convertToInteractive',\n",
              "                                                    [key], {});\n",
              "        if (!dataTable) return;\n",
              "\n",
              "        const docLinkHtml = 'Like what you see? Visit the ' +\n",
              "          '<a target=\"_blank\" href=https://colab.research.google.com/notebooks/data_table.ipynb>data table notebook</a>'\n",
              "          + ' to learn more about interactive tables.';\n",
              "        element.innerHTML = '';\n",
              "        dataTable['output_type'] = 'display_data';\n",
              "        await google.colab.output.renderOutput(dataTable, element);\n",
              "        const docLink = document.createElement('div');\n",
              "        docLink.innerHTML = docLinkHtml;\n",
              "        element.appendChild(docLink);\n",
              "      }\n",
              "    </script>\n",
              "  </div>\n",
              "\n",
              "\n",
              "<div id=\"df-6c458503-4a48-4fbb-a007-122f4473eb65\">\n",
              "  <button class=\"colab-df-quickchart\" onclick=\"quickchart('df-6c458503-4a48-4fbb-a007-122f4473eb65')\"\n",
              "            title=\"Suggest charts.\"\n",
              "            style=\"display:none;\">\n",
              "\n",
              "<svg xmlns=\"http://www.w3.org/2000/svg\" height=\"24px\"viewBox=\"0 0 24 24\"\n",
              "     width=\"24px\">\n",
              "    <g>\n",
              "        <path d=\"M19 3H5c-1.1 0-2 .9-2 2v14c0 1.1.9 2 2 2h14c1.1 0 2-.9 2-2V5c0-1.1-.9-2-2-2zM9 17H7v-7h2v7zm4 0h-2V7h2v10zm4 0h-2v-4h2v4z\"/>\n",
              "    </g>\n",
              "</svg>\n",
              "  </button>\n",
              "\n",
              "<style>\n",
              "  .colab-df-quickchart {\n",
              "      --bg-color: #E8F0FE;\n",
              "      --fill-color: #1967D2;\n",
              "      --hover-bg-color: #E2EBFA;\n",
              "      --hover-fill-color: #174EA6;\n",
              "      --disabled-fill-color: #AAA;\n",
              "      --disabled-bg-color: #DDD;\n",
              "  }\n",
              "\n",
              "  [theme=dark] .colab-df-quickchart {\n",
              "      --bg-color: #3B4455;\n",
              "      --fill-color: #D2E3FC;\n",
              "      --hover-bg-color: #434B5C;\n",
              "      --hover-fill-color: #FFFFFF;\n",
              "      --disabled-bg-color: #3B4455;\n",
              "      --disabled-fill-color: #666;\n",
              "  }\n",
              "\n",
              "  .colab-df-quickchart {\n",
              "    background-color: var(--bg-color);\n",
              "    border: none;\n",
              "    border-radius: 50%;\n",
              "    cursor: pointer;\n",
              "    display: none;\n",
              "    fill: var(--fill-color);\n",
              "    height: 32px;\n",
              "    padding: 0;\n",
              "    width: 32px;\n",
              "  }\n",
              "\n",
              "  .colab-df-quickchart:hover {\n",
              "    background-color: var(--hover-bg-color);\n",
              "    box-shadow: 0 1px 2px rgba(60, 64, 67, 0.3), 0 1px 3px 1px rgba(60, 64, 67, 0.15);\n",
              "    fill: var(--button-hover-fill-color);\n",
              "  }\n",
              "\n",
              "  .colab-df-quickchart-complete:disabled,\n",
              "  .colab-df-quickchart-complete:disabled:hover {\n",
              "    background-color: var(--disabled-bg-color);\n",
              "    fill: var(--disabled-fill-color);\n",
              "    box-shadow: none;\n",
              "  }\n",
              "\n",
              "  .colab-df-spinner {\n",
              "    border: 2px solid var(--fill-color);\n",
              "    border-color: transparent;\n",
              "    border-bottom-color: var(--fill-color);\n",
              "    animation:\n",
              "      spin 1s steps(1) infinite;\n",
              "  }\n",
              "\n",
              "  @keyframes spin {\n",
              "    0% {\n",
              "      border-color: transparent;\n",
              "      border-bottom-color: var(--fill-color);\n",
              "      border-left-color: var(--fill-color);\n",
              "    }\n",
              "    20% {\n",
              "      border-color: transparent;\n",
              "      border-left-color: var(--fill-color);\n",
              "      border-top-color: var(--fill-color);\n",
              "    }\n",
              "    30% {\n",
              "      border-color: transparent;\n",
              "      border-left-color: var(--fill-color);\n",
              "      border-top-color: var(--fill-color);\n",
              "      border-right-color: var(--fill-color);\n",
              "    }\n",
              "    40% {\n",
              "      border-color: transparent;\n",
              "      border-right-color: var(--fill-color);\n",
              "      border-top-color: var(--fill-color);\n",
              "    }\n",
              "    60% {\n",
              "      border-color: transparent;\n",
              "      border-right-color: var(--fill-color);\n",
              "    }\n",
              "    80% {\n",
              "      border-color: transparent;\n",
              "      border-right-color: var(--fill-color);\n",
              "      border-bottom-color: var(--fill-color);\n",
              "    }\n",
              "    90% {\n",
              "      border-color: transparent;\n",
              "      border-bottom-color: var(--fill-color);\n",
              "    }\n",
              "  }\n",
              "</style>\n",
              "\n",
              "  <script>\n",
              "    async function quickchart(key) {\n",
              "      const quickchartButtonEl =\n",
              "        document.querySelector('#' + key + ' button');\n",
              "      quickchartButtonEl.disabled = true;  // To prevent multiple clicks.\n",
              "      quickchartButtonEl.classList.add('colab-df-spinner');\n",
              "      try {\n",
              "        const charts = await google.colab.kernel.invokeFunction(\n",
              "            'suggestCharts', [key], {});\n",
              "      } catch (error) {\n",
              "        console.error('Error during call to suggestCharts:', error);\n",
              "      }\n",
              "      quickchartButtonEl.classList.remove('colab-df-spinner');\n",
              "      quickchartButtonEl.classList.add('colab-df-quickchart-complete');\n",
              "    }\n",
              "    (() => {\n",
              "      let quickchartButtonEl =\n",
              "        document.querySelector('#df-6c458503-4a48-4fbb-a007-122f4473eb65 button');\n",
              "      quickchartButtonEl.style.display =\n",
              "        google.colab.kernel.accessAllowed ? 'block' : 'none';\n",
              "    })();\n",
              "  </script>\n",
              "</div>\n",
              "    </div>\n",
              "  </div>\n"
            ]
          },
          "metadata": {},
          "execution_count": 12
        }
      ]
    },
    {
      "cell_type": "code",
      "source": [
        "#Import library wordcloud\n",
        "import matplotlib.pyplot as plt\n",
        "from wordcloud import WordCloud\n",
        "\n",
        "#Mengambil data text yang akan dijadikan wordcloud\n",
        "text = ' '.join(df['full_text'])\n",
        "\n",
        "# Buat objek WordCloud\n",
        "wordcloud = WordCloud(width=idth=800, height=800,background_color='white', min_font_size=10).generate(text)\n",
        "\n",
        "# Tampilkan WordCloud menggunakan matplotlib\n",
        "plt.figure(figsize=(8, 8), facecolor=None)\n",
        "plt.imshow(wordcloud)\n",
        "plt.axis(\"off\")\n",
        "plt.tight_layout(pad=0)\n",
        "\n",
        "# Menampilkan wordcloud\n",
        "plt.show()"
      ],
      "metadata": {
        "id": "aAV956uGkedf",
        "colab": {
          "base_uri": "https://localhost:8080/",
          "height": 140
        },
        "outputId": "ad4c7c47-733d-4ea8-d5b0-bddf25277135"
      },
      "execution_count": null,
      "outputs": [
        {
          "output_type": "error",
          "ename": "SyntaxError",
          "evalue": "ignored",
          "traceback": [
            "\u001b[0;36m  File \u001b[0;32m\"<ipython-input-14-d63415a1461e>\"\u001b[0;36m, line \u001b[0;32m9\u001b[0m\n\u001b[0;31m    wordcloud = WordCloud(width=idth=800, height=800,background_color='white', min_font_size=10).generate(text)\u001b[0m\n\u001b[0m                                    ^\u001b[0m\n\u001b[0;31mSyntaxError\u001b[0m\u001b[0;31m:\u001b[0m invalid syntax\n"
          ]
        }
      ]
    },
    {
      "cell_type": "markdown",
      "source": [
        "### PRE-PROCESSING\n",
        "Akan dilakukan pemrosesan data supaya menjadi data yang siap pakai dibantu oleh library sastrawi sebagai stemmer dan stopword dan kamusAlay untuk kata baku"
      ],
      "metadata": {
        "id": "ekyMBg-ExB5b"
      }
    },
    {
      "cell_type": "code",
      "source": [
        "#Import stopword dari sastrawi\n",
        "from Sastrawi.StopWordRemover.StopWordRemoverFactory import StopWordRemoverFactory, StopWordRemover, ArrayDictionary\n",
        "from Sastrawi.Stemmer.StemmerFactory import StemmerFactory\n",
        "\n",
        "#Membuat stemmer sastrawi\n",
        "factory = StemmerFactory()\n",
        "stemmer = factory.create_stemmer()\n",
        "\n",
        "# #Membuat stopword sastrawi\n",
        "factory = StopWordRemoverFactory()\n",
        "stopword = factory.create_stop_word_remover()\n",
        "\n",
        "#Menambah stopword\n",
        "tambahanStopword = [...] #--> isi ...\n",
        "\n",
        "# Mengambil Stopword bawaan\n",
        "stop_factory = StopWordRemoverFactory().get_stop_words()\n",
        "\n",
        "#Mengurangi stopword\n",
        "stop_factory.remove(\"2\") # isi --> ... (tambahkan remove stopword sesuai kebutuhan kalian)\n",
        "\n",
        "# Merge stopword\n",
        "data = ... #--> isi ...\n",
        "dictionary = ArrayDictionary(data)\n",
        "stopword = ... #--> isi ..."
      ],
      "metadata": {
        "id": "zhVPl6adjc6a",
        "colab": {
          "base_uri": "https://localhost:8080/",
          "height": 245
        },
        "outputId": "ba1f6447-4d22-4cfb-9208-97a8363b84c8"
      },
      "execution_count": null,
      "outputs": [
        {
          "output_type": "error",
          "ename": "ValueError",
          "evalue": "ignored",
          "traceback": [
            "\u001b[0;31m---------------------------------------------------------------------------\u001b[0m",
            "\u001b[0;31mValueError\u001b[0m                                Traceback (most recent call last)",
            "\u001b[0;32m<ipython-input-15-a12f15bd339b>\u001b[0m in \u001b[0;36m<cell line: 20>\u001b[0;34m()\u001b[0m\n\u001b[1;32m     18\u001b[0m \u001b[0;34m\u001b[0m\u001b[0m\n\u001b[1;32m     19\u001b[0m \u001b[0;31m#Mengurangi stopword\u001b[0m\u001b[0;34m\u001b[0m\u001b[0;34m\u001b[0m\u001b[0m\n\u001b[0;32m---> 20\u001b[0;31m \u001b[0mstop_factory\u001b[0m\u001b[0;34m.\u001b[0m\u001b[0mremove\u001b[0m\u001b[0;34m(\u001b[0m\u001b[0;34m\"...\"\u001b[0m\u001b[0;34m)\u001b[0m \u001b[0;31m# isi --> ... (tambahkan remove stopword sesuai kebutuhan kalian)\u001b[0m\u001b[0;34m\u001b[0m\u001b[0;34m\u001b[0m\u001b[0m\n\u001b[0m\u001b[1;32m     21\u001b[0m \u001b[0;34m\u001b[0m\u001b[0m\n\u001b[1;32m     22\u001b[0m \u001b[0;31m# Merge stopword\u001b[0m\u001b[0;34m\u001b[0m\u001b[0;34m\u001b[0m\u001b[0m\n",
            "\u001b[0;31mValueError\u001b[0m: list.remove(x): x not in list"
          ]
        }
      ]
    },
    {
      "cell_type": "code",
      "source": [
        "#Membuat kamus kata baku\n",
        "kata_baku = pd.read_csv('https://raw.githubusercontent.com/Zaniiiii/Data/main/aic/kamus_kbbiv2.csv.txt')\n",
        "kata_baku = kata_baku.set_index(\"kataAlay\")[\"kataBaik\"].to_dict()"
      ],
      "metadata": {
        "id": "RgMVouJHo1O9"
      },
      "execution_count": null,
      "outputs": []
    },
    {
      "cell_type": "code",
      "source": [
        "#Membuat fungsi untuk melakukan cleaning pada data\n",
        "def cleaning(text):\n",
        "    text = str(text)\n",
        "\n",
        "    # Menghapus Link Dengan Pattern http/https dan www\n",
        "    text = re.sub(r'http\\S+', '', text)\n",
        "\n",
        "    # Menghapus hashtag dan username\n",
        "    text = re.sub('(@\\w+|#\\w+)', '', text)\n",
        "\n",
        "    # Menghapus Karakter Selain Huruf a-z dan A-Z\n",
        "    text = re.sub('[^a-zA-Z]', ' ', text)\n",
        "\n",
        "    # Mengganti baris baru (enter) dengan spasi\n",
        "    text = re.sub(\"\\n\", \" \", text)\n",
        "\n",
        "    # Menghapus Spasi Yang Lebih Dari Satu\n",
        "    text = re.sub('(s{2,})', ' ', text)\n",
        "\n",
        "    # Menghapus kata stopword dalam tweet dan merubahnya menjadi kata baku\n",
        "    temp_text_split = []\n",
        "    final_text = []\n",
        "    text_split = text.split(' ')\n",
        "\n",
        "    for i in range(len(text_split)):\n",
        "\n",
        "        #Merubah kata menjadi kata baku\n",
        "              if text_split[i] in kata_baku:\n",
        "                  text_split[i] = ... #--> isi ...\n",
        "\n",
        "              #Menghapus data yang kurang dari 3 karakter\n",
        "              if len(list(str(text_split[i]))) > 3:\n",
        "                 temp_text_split.append(str(text_split[i]))\n",
        "\n",
        "    for i in range(len(temp_text_split)):\n",
        "        if temp_text_split not in final_text:\n",
        "            final_text.append(str(temp_text_split[i]))\n",
        "\n",
        "    text = ' '.join(final_text)\n",
        "\n",
        "    #Menghapus kata stopword dengan library sastrawi\n",
        "    text = ... #--> isi ...\n",
        "\n",
        "    #Melakukan stemming dengan library sastrawi\n",
        "    text = ... #--> isi ...\n",
        "\n",
        "    # Mengembalikan Hasil Preprocessing Text\n",
        "    return text"
      ],
      "metadata": {
        "id": "fSk7IboppHg2"
      },
      "execution_count": null,
      "outputs": []
    },
    {
      "cell_type": "code",
      "source": [
        "#Melakukan cleaning pada dataframe, dan membuat kolom baru bernama text_clean\n",
        "df['text_clean'] = df['full_text'].apply(cleaning)\n",
        "#Mengembalikan label pada dataframe\n",
        "df['full_text'] = df_fulltext\n",
        "df['class'] = df_class\n",
        "#Menghapus NaN\n",
        "df.replace(\"\", float(\"NaN\"), inplace=True)\n",
        "df.dropna(inplace=True)"
      ],
      "metadata": {
        "id": "RWeWJbcHsXF9"
      },
      "execution_count": null,
      "outputs": []
    },
    {
      "cell_type": "code",
      "source": [
        "df"
      ],
      "metadata": {
        "id": "dX9TNhz2ZixH"
      },
      "execution_count": null,
      "outputs": []
    },
    {
      "cell_type": "markdown",
      "source": [],
      "metadata": {
        "id": "KLTvPdf1wcaO"
      }
    },
    {
      "cell_type": "code",
      "source": [
        "#Import library wordcloud\n",
        "import matplotlib.pyplot as plt\n",
        "from wordcloud import WordCloud\n",
        "\n",
        "#Mengambil data text yang akan dijadikan wordcloud\n",
        "text = ' '.join(df['full_text'])\n",
        "\n",
        "# Buat objek WordCloud\n",
        "wordcloud = WordCloud(...).generate(text) #isi --> ...\n",
        "\n",
        "# Tampilkan WordCloud menggunakan matplotlib\n",
        "plt.figure(figsize=(8, 8), facecolor=None)\n",
        "plt.imshow(wordcloud)\n",
        "plt.axis(\"off\")\n",
        "plt.tight_layout(pad=0)\n",
        "\n",
        "# Menampilkan wordcloud\n",
        "plt.show()"
      ],
      "metadata": {
        "id": "45tGTfhBuLQD"
      },
      "execution_count": null,
      "outputs": []
    },
    {
      "cell_type": "code",
      "source": [
        "#Membagi data berdasarkan labelnya\n",
        "data_negatif = df[df[\"class\"]==2]\n",
        "data_positif = df[df[\"class\"]==1]\n",
        "data_netral = df[df[\"class\"]==0]\n",
        "\n",
        "negatif_list = data_negatif[\"text_clean\"].tolist()\n",
        "positif_list = data_positif[\"text_clean\"].tolist()\n",
        "netral_list = data_netral[\"text_clean\"].tolist()"
      ],
      "metadata": {
        "id": "Z9KsffvnDk3Q"
      },
      "execution_count": null,
      "outputs": []
    },
    {
      "cell_type": "code",
      "source": [
        "# Buat objek WordCloud untuk label positif\n",
        "\n",
        "filtered_positif = ('').join(str(positif_list))\n",
        "\n",
        "wordcloud = WordCloud(...).generate(...)  #isi --> ...\n",
        "\n",
        "# Tampilkan WordCloud menggunakan matplotlib\n",
        "plt.figure(figsize=(8, 8), facecolor=None)\n",
        "plt.imshow(wordcloud)\n",
        "plt.axis(\"off\")\n",
        "plt.tight_layout(pad=0)\n",
        "\n",
        "# Menampilkan wordcloud\n",
        "plt.show()"
      ],
      "metadata": {
        "id": "gSA3MY4DNc7a"
      },
      "execution_count": null,
      "outputs": []
    },
    {
      "cell_type": "code",
      "source": [
        "# Buat objek WordCloud untuk label positif\n",
        "\n",
        "filtered_negatif = ('').join(str(positif_list))\n",
        "\n",
        "wordcloud = WordCloud(...).generate(...)  #isi --> ...\n",
        "\n",
        "# Tampilkan WordCloud menggunakan matplotlib\n",
        "plt.figure(figsize=(8, 8), facecolor=None)\n",
        "plt.imshow(wordcloud)\n",
        "plt.axis(\"off\")\n",
        "plt.tight_layout(pad=0)\n",
        "\n",
        "# Menampilkan wordcloud\n",
        "plt.show()"
      ],
      "metadata": {
        "id": "VtaytR8tNkya"
      },
      "execution_count": null,
      "outputs": []
    },
    {
      "cell_type": "code",
      "source": [
        "# Buat objek WordCloud untuk label positif\n",
        "\n",
        "filtered_netral = ('').join(str(positif_list))\n",
        "\n",
        "wordcloud = WordCloud(...).generate(...)  #isi --> ...\n",
        "\n",
        "# Tampilkan WordCloud menggunakan matplotlib\n",
        "plt.figure(figsize=(8, 8), facecolor=None)\n",
        "plt.imshow(wordcloud)\n",
        "plt.axis(\"off\")\n",
        "plt.tight_layout(pad=0)\n",
        "\n",
        "# Menampilkan wordcloud\n",
        "plt.show()"
      ],
      "metadata": {
        "id": "QT-TT_1KNlQH"
      },
      "execution_count": null,
      "outputs": []
    },
    {
      "cell_type": "markdown",
      "source": [
        "### Modeling SVM"
      ],
      "metadata": {
        "id": "8sCW9KihATwm"
      }
    },
    {
      "cell_type": "code",
      "source": [
        "import seaborn as sns #library untuk memperindah visualisasi data\n",
        "import matplotlib.pyplot as plt\n",
        "import pandas as pd #library untuk mengolah data\n",
        "\n",
        "#Setup Seaborn\n",
        "sns.set_style(style='white')\n",
        "sns.set_context(context='notebook', font_scale=1.3, rc={'figure.figsize':(16,9)})"
      ],
      "metadata": {
        "id": "zHxsJpNfKpbU",
        "colab": {
          "base_uri": "https://localhost:8080/",
          "height": 17
        },
        "outputId": "9077914c-5a2f-479b-b652-9ea179d7a9ea"
      },
      "execution_count": null,
      "outputs": [
        {
          "output_type": "display_data",
          "data": {
            "text/plain": [
              "<IPython.core.display.Javascript object>"
            ],
            "application/javascript": [
              "\n",
              "    async function download(id, filename, size) {\n",
              "      if (!google.colab.kernel.accessAllowed) {\n",
              "        return;\n",
              "      }\n",
              "      const div = document.createElement('div');\n",
              "      const label = document.createElement('label');\n",
              "      label.textContent = `Downloading \"${filename}\": `;\n",
              "      div.appendChild(label);\n",
              "      const progress = document.createElement('progress');\n",
              "      progress.max = size;\n",
              "      div.appendChild(progress);\n",
              "      document.body.appendChild(div);\n",
              "\n",
              "      const buffers = [];\n",
              "      let downloaded = 0;\n",
              "\n",
              "      const channel = await google.colab.kernel.comms.open(id);\n",
              "      // Send a message to notify the kernel that we're ready.\n",
              "      channel.send({})\n",
              "\n",
              "      for await (const message of channel.messages) {\n",
              "        // Send a message to notify the kernel that we're ready.\n",
              "        channel.send({})\n",
              "        if (message.buffers) {\n",
              "          for (const buffer of message.buffers) {\n",
              "            buffers.push(buffer);\n",
              "            downloaded += buffer.byteLength;\n",
              "            progress.value = downloaded;\n",
              "          }\n",
              "        }\n",
              "      }\n",
              "      const blob = new Blob(buffers, {type: 'application/binary'});\n",
              "      const a = document.createElement('a');\n",
              "      a.href = window.URL.createObjectURL(blob);\n",
              "      a.download = filename;\n",
              "      div.appendChild(a);\n",
              "      a.click();\n",
              "      div.remove();\n",
              "    }\n",
              "  "
            ]
          },
          "metadata": {}
        },
        {
          "output_type": "display_data",
          "data": {
            "text/plain": [
              "<IPython.core.display.Javascript object>"
            ],
            "application/javascript": [
              "download(\"download_d9dc4e8e-11c1-493a-9638-a7571b352f95\", \"file.csv\", 217741)"
            ]
          },
          "metadata": {}
        }
      ]
    },
    {
      "cell_type": "code",
      "source": [
        "dataku = ... # isi --> ... (Lanjutkan dari data yang sudah dibuat diatas)\n",
        "dataku.rename(columns={...}, inplace=True) # isi --> ...\n",
        "dataku.label.value_counts() #MEnghitung Jumlah record berdasarkan label"
      ],
      "metadata": {
        "id": "CZOIkeqPAYRK"
      },
      "execution_count": null,
      "outputs": []
    },
    {
      "cell_type": "code",
      "source": [
        "#proses training\n",
        "import pickle #library menyimpan model\n",
        "from sklearn.svm import SVC #library metode yang akan dipakai untuk membuat model\n",
        "from sklearn.feature_extraction.text import TfidfVectorizer #library untuk merubah data text kedalam bentuk vektor\n",
        "from sklearn.preprocessing import LabelEncoder #library untuk merubah data label string kedalam bentuk numerik"
      ],
      "metadata": {
        "id": "s2pZSeYyAkry"
      },
      "execution_count": null,
      "outputs": []
    },
    {
      "cell_type": "code",
      "source": [
        "#Merubah data label\n",
        "dictio_label ={\n",
        "    0:\"Netral\",\n",
        "    1:\"Positif\",\n",
        "    2:\"Negatif\"\n",
        "}\n",
        "\n",
        "dataku[\"label\"]=dataku['label'].map(dictio_label)\n",
        "dataku.label"
      ],
      "metadata": {
        "id": "3FyCBJ5JAl5W"
      },
      "execution_count": null,
      "outputs": []
    },
    {
      "cell_type": "code",
      "source": [
        "dataku = dataku.dropna() #mendrop record yang terdapat data kosong\n",
        "dataku.isnull().sum() #menghitung data kosong per kolom\n",
        "\n",
        "x = dataku.lemma #mengambil data pada kolom lemma\n",
        "y = dataku.label #mengambil data pada kolom label"
      ],
      "metadata": {
        "id": "Ctb39daoAnG1"
      },
      "execution_count": null,
      "outputs": []
    },
    {
      "cell_type": "code",
      "source": [
        "encoder = LabelEncoder() #Memanggil class encoder\n",
        "train_y = encoder.fit_transform(y) #encode data kolom label\n",
        "\n",
        "#memanggil class untuk vektorizer\n",
        "tfidf_vect = ... # isi --> ...\n",
        "\n",
        "#Transform data pada kolom lemma kedalam bentuk vektor\n",
        "tfidf_vect.fit(x)\n",
        "train_x_tfidf = tfidf_vect.transform(x)\n",
        "\n",
        "SVM = SVC(...) #memanggil metode training # isi --> ...\n",
        "text_pickle =SVM.fit(train_x_tfidf, train_y) #membuat model\n",
        "\n",
        "#save model\n",
        "files = open('SVM_classifier_24.pickle','wb')\n",
        "pickle.dump(text_pickle, files)\n",
        "files.close()\n",
        "print(\"selesai\")"
      ],
      "metadata": {
        "id": "RFhRyHXHApRZ"
      },
      "execution_count": null,
      "outputs": []
    },
    {
      "cell_type": "code",
      "source": [
        "#Loading model yang sudah disimpan\n",
        "model = open('SVM_classifier_24.pickle', 'rb')\n",
        "svm_classifier = pickle.load(model)\n",
        "svm_classifier"
      ],
      "metadata": {
        "id": "wxFyj_QaAqg2"
      },
      "execution_count": null,
      "outputs": []
    },
    {
      "cell_type": "code",
      "source": [
        "#Ekstrakasi fitur\n",
        "from imblearn.over_sampling import SMOTE #Library untuk fitting data\n",
        "\n",
        "vect = TfidfVectorizer(max_features=1000, binary=True)\n",
        "X = vect.fit_transform(dataku.lemma)\n",
        "\n",
        "print(X)\n",
        "#sm=SMOTE()"
      ],
      "metadata": {
        "id": "PMenl7wxArjm"
      },
      "execution_count": null,
      "outputs": []
    },
    {
      "cell_type": "code",
      "source": [
        "from sklearn.model_selection import ShuffleSplit #library untuk split data\n",
        "from sklearn.metrics import classification_report, accuracy_score, f1_score, confusion_matrix #library untuk evaluasi\n",
        "\n",
        "\n",
        "X = dataku.lemma\n",
        "Y = dataku.label\n",
        "\n",
        "ss = ShuffleSplit(n_splits=10, test_size=0.2) # mensplit data\n",
        "sm = SMOTE()\n",
        "\n",
        "accs = []\n",
        "fis = []\n",
        "cms = []\n",
        "\n",
        "for train_index, test_index in ss.split(X):\n",
        "    X_train, X_test = X.iloc[...], X.iloc[...] #isi --> ...\n",
        "    y_train, y_test = Y.iloc[...], Y.iloc[...]#isi --> ...\n",
        "\n",
        "    X_train_vect = vect.fit_transform(...) #isi --> ...\n",
        "    X_test_vect = vect.transform(...) #isi --> ...\n",
        "\n",
        "    X_train_res, y_train_res = sm.fit_resample(...) #FITTING DATA #isi --> ...\n",
        "\n",
        "    SVM.fit(...) #isi --> ...\n",
        "    y_pred = SVM.predict(...)#memprediksi #isi --> ...\n",
        "\n",
        "    accs.append(...) #menyimpan akurasi #isi --> ...\n",
        "    fis.append(...) #menyimpan nilai f-1 #isi --> ...\n",
        "    cms.append(...) #menyimpan confusion matrix #isi --> ...\n",
        "\n",
        "print(classification_report(y_test,y_pred))\n",
        "print(\"\\naverage accuracy across fold : {:2f}%\".format(sum(accs)/len(accs) *100))\n",
        "print(\"\\naverage F1-score across fold : {:2f}%\".format(sum(fis)/len(fis) *100))\n",
        "print(\"\\naverage Confusion Matrix across fold : \\n {}\".format(sum(cms)/len(cms)))"
      ],
      "metadata": {
        "id": "F5Gqnor3As2H"
      },
      "execution_count": null,
      "outputs": []
    },
    {
      "cell_type": "code",
      "source": [
        "# Loading model yang sudah disimpan\n",
        "model = open('...', 'rb') #isi --> ...\n",
        "svm_classifier = pickle.load(model)\n",
        "model.close()"
      ],
      "metadata": {
        "id": "C1A8vUM-K8mz"
      },
      "execution_count": null,
      "outputs": []
    },
    {
      "cell_type": "code",
      "source": [
        "# Contoh penggunaan model untuk prediksi\n",
        "input_text = ... #isi --> ...\n",
        "text_vector = tfidf_vect.transform(...) #isi --> ...\n",
        "predicted_label = encoder.inverse_transform(svm_classifier.predict(text_vector))\n",
        "print(f\"Prediksi sentimen teks: {predicted_label[0]}\")"
      ],
      "metadata": {
        "id": "CaBAWnuRK9fe"
      },
      "execution_count": null,
      "outputs": []
    }
  ]
}